{
 "cells": [
  {
   "cell_type": "markdown",
   "id": "ef10f51e",
   "metadata": {},
   "source": [
    "PROCESSING NPY FILES\n"
   ]
  },
  {
   "cell_type": "code",
   "execution_count": null,
   "id": "cf5318d1",
   "metadata": {},
   "outputs": [],
   "source": [
    "# Import necessary libraries\n",
    "import numpy as np\n",
    "import os\n",
    "from PIL import Image\n",
    "import matplotlib.pyplot as plt"
   ]
  },
  {
   "cell_type": "code",
   "execution_count": 13,
   "id": "14751d2e",
   "metadata": {},
   "outputs": [],
   "source": [
    "# Load in a .npy file \n",
    "npy_path = \"C:\\\\Users\\\\kylea\\\\Repos\\\\Blood-Cell-Classification\\\\SampleImages\\\\Images\\\\tile_x003_y002_cropped_seg.npy\"\n",
    "cells = np.load(npy_path, allow_pickle = True).item()\n",
    "# .npy file is a dictionary with keys: 'masks', 'outlines', 'colors', 'filename'\n",
    "# Each key contains a list of arrays/images corresponding to individual cells\n",
    "masks = cells['masks']       # segmentation mask\n",
    "outlines = cells['outlines'] # outlines\n",
    "colors = cells['colors']     # RGB colors\n",
    "filename = cells['filename'] # original image path"
   ]
  },
  {
   "cell_type": "code",
   "execution_count": 14,
   "id": "a1ebc8da",
   "metadata": {},
   "outputs": [
    {
     "ename": "ModuleNotFoundError",
     "evalue": "No module named 'skimage'",
     "output_type": "error",
     "traceback": [
      "\u001b[31m---------------------------------------------------------------------------\u001b[39m",
      "\u001b[31mModuleNotFoundError\u001b[39m                       Traceback (most recent call last)",
      "\u001b[36mCell\u001b[39m\u001b[36m \u001b[39m\u001b[32mIn[14]\u001b[39m\u001b[32m, line 1\u001b[39m\n\u001b[32m----> \u001b[39m\u001b[32m1\u001b[39m \u001b[38;5;28;01mfrom\u001b[39;00m\u001b[38;5;250m \u001b[39m\u001b[34;01mskimage\u001b[39;00m\u001b[38;5;250m \u001b[39m\u001b[38;5;28;01mimport\u001b[39;00m io\n\u001b[32m      3\u001b[39m img = io.imread(filename)\n\u001b[32m      5\u001b[39m plt.figure(figsize=(\u001b[32m8\u001b[39m,\u001b[32m8\u001b[39m))\n",
      "\u001b[31mModuleNotFoundError\u001b[39m: No module named 'skimage'"
     ]
    }
   ],
   "source": [
    "from skimage import io\n",
    "\n",
    "img = io.imread(filename)\n",
    "\n",
    "plt.figure(figsize=(8,8))\n",
    "plt.imshow(img, cmap='gray')\n",
    "plt.imshow(masks, cmap='nipy_spectral', alpha=0.5)  # overlay\n",
    "plt.axis('off')\n",
    "plt.show()\n"
   ]
  }
 ],
 "metadata": {
  "kernelspec": {
   "display_name": "venv (3.11.1)",
   "language": "python",
   "name": "python3"
  },
  "language_info": {
   "codemirror_mode": {
    "name": "ipython",
    "version": 3
   },
   "file_extension": ".py",
   "mimetype": "text/x-python",
   "name": "python",
   "nbconvert_exporter": "python",
   "pygments_lexer": "ipython3",
   "version": "3.11.1"
  }
 },
 "nbformat": 4,
 "nbformat_minor": 5
}
