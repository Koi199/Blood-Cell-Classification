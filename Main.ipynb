{
 "cells": [
  {
   "cell_type": "markdown",
   "id": "fb87bd79",
   "metadata": {},
   "source": [
    "## Blood Cell Classification "
   ]
  },
  {
   "cell_type": "markdown",
   "id": "f939f197",
   "metadata": {},
   "source": [
    "Setup"
   ]
  },
  {
   "cell_type": "code",
   "execution_count": 1,
   "id": "d6b9ac55",
   "metadata": {},
   "outputs": [
    {
     "name": "stdout",
     "output_type": "stream",
     "text": [
      "Requirement already satisfied: torch in c:\\users\\kylea\\appdata\\local\\programs\\python\\python311\\lib\\site-packages (2.7.1)\n",
      "Requirement already satisfied: torchvision in c:\\users\\kylea\\appdata\\local\\programs\\python\\python311\\lib\\site-packages (0.22.1)\n",
      "Requirement already satisfied: torchaudio in c:\\users\\kylea\\appdata\\local\\programs\\python\\python311\\lib\\site-packages (2.7.1)\n",
      "Requirement already satisfied: filelock in c:\\users\\kylea\\appdata\\local\\programs\\python\\python311\\lib\\site-packages (from torch) (3.18.0)\n",
      "Requirement already satisfied: typing-extensions>=4.10.0 in c:\\users\\kylea\\appdata\\local\\programs\\python\\python311\\lib\\site-packages (from torch) (4.14.1)\n",
      "Requirement already satisfied: sympy>=1.13.3 in c:\\users\\kylea\\appdata\\local\\programs\\python\\python311\\lib\\site-packages (from torch) (1.14.0)\n",
      "Requirement already satisfied: networkx in c:\\users\\kylea\\appdata\\local\\programs\\python\\python311\\lib\\site-packages (from torch) (3.5)\n",
      "Requirement already satisfied: jinja2 in c:\\users\\kylea\\appdata\\local\\programs\\python\\python311\\lib\\site-packages (from torch) (3.1.2)\n",
      "Requirement already satisfied: fsspec in c:\\users\\kylea\\appdata\\local\\programs\\python\\python311\\lib\\site-packages (from torch) (2025.5.1)\n",
      "Requirement already satisfied: numpy in c:\\users\\kylea\\appdata\\local\\programs\\python\\python311\\lib\\site-packages (from torchvision) (1.26.0)\n",
      "Requirement already satisfied: pillow!=8.3.*,>=5.3.0 in c:\\users\\kylea\\appdata\\local\\programs\\python\\python311\\lib\\site-packages (from torchvision) (11.3.0)\n",
      "Requirement already satisfied: mpmath<1.4,>=1.1.0 in c:\\users\\kylea\\appdata\\local\\programs\\python\\python311\\lib\\site-packages (from sympy>=1.13.3->torch) (1.3.0)\n",
      "Requirement already satisfied: MarkupSafe>=2.0 in c:\\users\\kylea\\appdata\\local\\programs\\python\\python311\\lib\\site-packages (from jinja2->torch) (2.1.1)\n",
      "Note: you may need to restart the kernel to use updated packages.\n"
     ]
    }
   ],
   "source": [
    "import os\n",
    "%pip install torch torchvision torchaudio"
   ]
  },
  {
   "cell_type": "markdown",
   "id": "56a21ac5",
   "metadata": {},
   "source": [
    "Run Segmentation"
   ]
  },
  {
   "cell_type": "code",
   "execution_count": 2,
   "id": "2fd00414",
   "metadata": {},
   "outputs": [
    {
     "name": "stdout",
     "output_type": "stream",
     "text": [
      "Requirement already satisfied: pip in c:\\users\\kylea\\appdata\\local\\programs\\python\\python311\\lib\\site-packages (25.2)\n",
      "Requirement already satisfied: setuptools in c:\\users\\kylea\\appdata\\local\\programs\\python\\python311\\lib\\site-packages (80.9.0)\n",
      "Requirement already satisfied: wheel in c:\\users\\kylea\\appdata\\local\\programs\\python\\python311\\lib\\site-packages (0.45.1)\n",
      "Note: you may need to restart the kernel to use updated packages.\n",
      "Requirement already satisfied: numpy in c:\\users\\kylea\\appdata\\local\\programs\\python\\python311\\lib\\site-packages (1.26.0)\n",
      "Note: you may need to restart the kernel to use updated packages.\n",
      "Requirement already satisfied: pyradiomics in c:\\users\\kylea\\appdata\\local\\programs\\python\\python311\\lib\\site-packages (3.0.1)Note: you may need to restart the kernel to use updated packages.\n",
      "\n",
      "Requirement already satisfied: numpy>=1.9.2 in c:\\users\\kylea\\appdata\\local\\programs\\python\\python311\\lib\\site-packages (from pyradiomics) (1.26.0)\n",
      "Requirement already satisfied: SimpleITK>=0.9.1 in c:\\users\\kylea\\appdata\\local\\programs\\python\\python311\\lib\\site-packages (from pyradiomics) (2.5.2)\n",
      "Requirement already satisfied: PyWavelets>=0.4.0 in c:\\users\\kylea\\appdata\\local\\programs\\python\\python311\\lib\\site-packages (from pyradiomics) (1.8.0)\n",
      "Requirement already satisfied: pykwalify>=1.6.0 in c:\\users\\kylea\\appdata\\local\\programs\\python\\python311\\lib\\site-packages (from pyradiomics) (1.8.0)\n",
      "Requirement already satisfied: six>=1.10.0 in c:\\users\\kylea\\appdata\\local\\programs\\python\\python311\\lib\\site-packages (from pyradiomics) (1.16.0)\n",
      "Requirement already satisfied: docopt>=0.6.2 in c:\\users\\kylea\\appdata\\local\\programs\\python\\python311\\lib\\site-packages (from pykwalify>=1.6.0->pyradiomics) (0.6.2)\n",
      "Requirement already satisfied: python-dateutil>=2.8.0 in c:\\users\\kylea\\appdata\\local\\programs\\python\\python311\\lib\\site-packages (from pykwalify>=1.6.0->pyradiomics) (2.8.2)\n",
      "Requirement already satisfied: ruamel.yaml>=0.16.0 in c:\\users\\kylea\\appdata\\local\\programs\\python\\python311\\lib\\site-packages (from pykwalify>=1.6.0->pyradiomics) (0.18.14)\n",
      "Requirement already satisfied: ruamel.yaml.clib>=0.2.7 in c:\\users\\kylea\\appdata\\local\\programs\\python\\python311\\lib\\site-packages (from ruamel.yaml>=0.16.0->pykwalify>=1.6.0->pyradiomics) (0.2.12)\n"
     ]
    }
   ],
   "source": [
    "%pip install --upgrade pip setuptools wheel\n",
    "%pip install numpy\n",
    "%pip install --no-build-isolation pyradiomics"
   ]
  },
  {
   "cell_type": "code",
   "execution_count": null,
   "id": "a48511e8",
   "metadata": {},
   "outputs": [
    {
     "name": "stderr",
     "output_type": "stream",
     "text": [
      "Downloading...\n",
      "From (original): https://drive.google.com/uc?id=1UfKeFnJQ7IcOdklVDj6ViadcF6U72Blf\n",
      "From (redirected): https://drive.google.com/uc?id=1UfKeFnJQ7IcOdklVDj6ViadcF6U72Blf&confirm=t&uuid=dfcc0985-6361-4ba3-8d9b-bd8c38daac87\n",
      "To: c:\\Users\\kylea\\Repos\\Blood-Cell-Classification\\RedTell\\segmentation\\models\n",
      "100%|██████████| 176M/176M [00:16<00:00, 10.4MB/s] \n"
     ]
    },
    {
     "data": {
      "text/plain": [
       "'RedTell/segmentation/models'"
      ]
     },
     "execution_count": 2,
     "metadata": {},
     "output_type": "execute_result"
    }
   ],
   "source": [
    "import gdown\n",
    "\n",
    "# # Create the directory\n",
    "# os.makedirs('RedTell/segmentation/models', exist_ok=True)\n",
    "\n",
    "# # Change to the directory and download\n",
    "# os.chdir('RedTell/segmentation/models')\n",
    "\n",
    "gdown.download(id='1UfKeFnJQ7IcOdklVDj6ViadcF6U72Blf', \n",
    "               output='RedTell/segmentation/models', \n",
    "               quiet=False)"
   ]
  },
  {
   "cell_type": "code",
   "execution_count": 10,
   "id": "bb8c7458",
   "metadata": {},
   "outputs": [
    {
     "name": "stdout",
     "output_type": "stream",
     "text": [
      "Segmenting images in  C:/Users/kylea/Repos/Blood-Cell-Classification/SampleImages\n",
      "Using model  mask_rcnn_commitment\n",
      "Segmenting  5  images\n"
     ]
    },
    {
     "name": "stderr",
     "output_type": "stream",
     "text": [
      "  0%|          | 0/5 [00:02<?, ?it/s]\n"
     ]
    },
    {
     "ename": "FileNotFoundError",
     "evalue": "[Errno 2] No such file or directory: 'C:/Users/kylea/Repos/Blood-Cell-Classification/SampleImages\\\\masks\\\\SampleImages\\\\images\\\\tile_x003_y002.tif'",
     "output_type": "error",
     "traceback": [
      "\u001b[1;31m---------------------------------------------------------------------------\u001b[0m",
      "\u001b[1;31mFileNotFoundError\u001b[0m                         Traceback (most recent call last)",
      "Cell \u001b[1;32mIn[10], line 11\u001b[0m\n\u001b[0;32m      8\u001b[0m \u001b[38;5;28;01mfrom\u001b[39;00m \u001b[38;5;21;01mRedTell\u001b[39;00m \u001b[38;5;28;01mimport\u001b[39;00m redtell\n\u001b[0;32m     10\u001b[0m \u001b[38;5;66;03m# Run segmentation\u001b[39;00m\n\u001b[1;32m---> 11\u001b[0m \u001b[43mredtell\u001b[49m\u001b[38;5;241;43m.\u001b[39;49m\u001b[43msegment_images\u001b[49m\u001b[43m(\u001b[49m\u001b[43mdata_dir\u001b[49m\u001b[43m,\u001b[49m\u001b[43m \u001b[49m\u001b[43mmodel\u001b[49m\u001b[38;5;241;43m=\u001b[39;49m\u001b[38;5;124;43m\"\u001b[39;49m\u001b[38;5;124;43mmask_rcnn_commitment\u001b[39;49m\u001b[38;5;124;43m\"\u001b[39;49m\u001b[43m)\u001b[49m\n",
      "File \u001b[1;32mC:\\Users/kylea/Repos/Blood-Cell-Classification\\RedTell\\segmentation\\predict.py:76\u001b[0m, in \u001b[0;36msegment_images\u001b[1;34m(img_dir, model)\u001b[0m\n\u001b[0;32m     74\u001b[0m save_masks \u001b[38;5;241m=\u001b[39m Image\u001b[38;5;241m.\u001b[39mfromarray(image_masks)\n\u001b[0;32m     75\u001b[0m save_mask_path \u001b[38;5;241m=\u001b[39m os\u001b[38;5;241m.\u001b[39mpath\u001b[38;5;241m.\u001b[39mjoin(img_dir, \u001b[38;5;124m\"\u001b[39m\u001b[38;5;124mmasks\u001b[39m\u001b[38;5;124m\"\u001b[39m, img_name)\n\u001b[1;32m---> 76\u001b[0m \u001b[43msave_masks\u001b[49m\u001b[38;5;241;43m.\u001b[39;49m\u001b[43msave\u001b[49m\u001b[43m(\u001b[49m\u001b[43msave_mask_path\u001b[49m\u001b[43m)\u001b[49m\n\u001b[0;32m     78\u001b[0m \u001b[38;5;66;03m# save segmentation results on images\u001b[39;00m\n\u001b[0;32m     79\u001b[0m save_results_path \u001b[38;5;241m=\u001b[39m os\u001b[38;5;241m.\u001b[39mpath\u001b[38;5;241m.\u001b[39mjoin(img_dir, \u001b[38;5;124m\"\u001b[39m\u001b[38;5;124msegmentation_results\u001b[39m\u001b[38;5;124m\"\u001b[39m, img_name)\n",
      "File \u001b[1;32mc:\\Users\\kylea\\AppData\\Local\\Programs\\Python\\Python311\\Lib\\site-packages\\PIL\\Image.py:2583\u001b[0m, in \u001b[0;36mImage.save\u001b[1;34m(self, fp, format, **params)\u001b[0m\n\u001b[0;32m   2581\u001b[0m         fp \u001b[38;5;241m=\u001b[39m builtins\u001b[38;5;241m.\u001b[39mopen(filename, \u001b[38;5;124m\"\u001b[39m\u001b[38;5;124mr+b\u001b[39m\u001b[38;5;124m\"\u001b[39m)\n\u001b[0;32m   2582\u001b[0m     \u001b[38;5;28;01melse\u001b[39;00m:\n\u001b[1;32m-> 2583\u001b[0m         fp \u001b[38;5;241m=\u001b[39m \u001b[43mbuiltins\u001b[49m\u001b[38;5;241;43m.\u001b[39;49m\u001b[43mopen\u001b[49m\u001b[43m(\u001b[49m\u001b[43mfilename\u001b[49m\u001b[43m,\u001b[49m\u001b[43m \u001b[49m\u001b[38;5;124;43m\"\u001b[39;49m\u001b[38;5;124;43mw+b\u001b[39;49m\u001b[38;5;124;43m\"\u001b[39;49m\u001b[43m)\u001b[49m\n\u001b[0;32m   2584\u001b[0m \u001b[38;5;28;01melse\u001b[39;00m:\n\u001b[0;32m   2585\u001b[0m     fp \u001b[38;5;241m=\u001b[39m cast(IO[\u001b[38;5;28mbytes\u001b[39m], fp)\n",
      "\u001b[1;31mFileNotFoundError\u001b[0m: [Errno 2] No such file or directory: 'C:/Users/kylea/Repos/Blood-Cell-Classification/SampleImages\\\\masks\\\\SampleImages\\\\images\\\\tile_x003_y002.tif'"
     ]
    }
   ],
   "source": [
    "import sys\n",
    "\n",
    "\n",
    "# project_root = r\"C:/Users/kylea/Repos/Blood-Cell-Classification\"\n",
    "data_dir = r\"C:/Users/kylea/Repos/Blood-Cell-Classification/SampleImages\"\n",
    "# sys.path.append(os.path.join(project_root, \"RedTell\"))\n",
    "\n",
    "from RedTell import redtell\n",
    "\n",
    "# Run segmentation\n",
    "redtell.segment_images(data_dir, model=\"mask_rcnn_commitment\")\n"
   ]
  }
 ],
 "metadata": {
  "kernelspec": {
   "display_name": "Python 3",
   "language": "python",
   "name": "python3"
  },
  "language_info": {
   "codemirror_mode": {
    "name": "ipython",
    "version": 3
   },
   "file_extension": ".py",
   "mimetype": "text/x-python",
   "name": "python",
   "nbconvert_exporter": "python",
   "pygments_lexer": "ipython3",
   "version": "3.11.1"
  }
 },
 "nbformat": 4,
 "nbformat_minor": 5
}
