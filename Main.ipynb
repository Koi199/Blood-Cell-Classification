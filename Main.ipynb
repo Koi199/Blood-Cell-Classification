{
 "cells": [
  {
   "cell_type": "markdown",
   "id": "fb87bd79",
   "metadata": {},
   "source": [
    "## Blood Cell Classification "
   ]
  },
  {
   "cell_type": "markdown",
   "id": "f939f197",
   "metadata": {},
   "source": [
    "Setup"
   ]
  },
  {
   "cell_type": "code",
   "execution_count": 1,
   "id": "d6b9ac55",
   "metadata": {},
   "outputs": [
    {
     "name": "stdout",
     "output_type": "stream",
     "text": [
      "Requirement already satisfied: torch in c:\\users\\kylea\\appdata\\local\\programs\\python\\python311\\lib\\site-packages (2.7.1)\n",
      "Requirement already satisfied: torchvision in c:\\users\\kylea\\appdata\\local\\programs\\python\\python311\\lib\\site-packages (0.22.1)\n",
      "Requirement already satisfied: torchaudio in c:\\users\\kylea\\appdata\\local\\programs\\python\\python311\\lib\\site-packages (2.7.1)\n",
      "Requirement already satisfied: filelock in c:\\users\\kylea\\appdata\\local\\programs\\python\\python311\\lib\\site-packages (from torch) (3.18.0)\n",
      "Requirement already satisfied: typing-extensions>=4.10.0 in c:\\users\\kylea\\appdata\\local\\programs\\python\\python311\\lib\\site-packages (from torch) (4.14.1)\n",
      "Requirement already satisfied: sympy>=1.13.3 in c:\\users\\kylea\\appdata\\local\\programs\\python\\python311\\lib\\site-packages (from torch) (1.14.0)\n",
      "Requirement already satisfied: networkx in c:\\users\\kylea\\appdata\\local\\programs\\python\\python311\\lib\\site-packages (from torch) (3.5)\n",
      "Requirement already satisfied: jinja2 in c:\\users\\kylea\\appdata\\local\\programs\\python\\python311\\lib\\site-packages (from torch) (3.1.2)\n",
      "Requirement already satisfied: fsspec in c:\\users\\kylea\\appdata\\local\\programs\\python\\python311\\lib\\site-packages (from torch) (2025.5.1)\n",
      "Requirement already satisfied: numpy in c:\\users\\kylea\\appdata\\local\\programs\\python\\python311\\lib\\site-packages (from torchvision) (1.26.0)\n",
      "Requirement already satisfied: pillow!=8.3.*,>=5.3.0 in c:\\users\\kylea\\appdata\\local\\programs\\python\\python311\\lib\\site-packages (from torchvision) (11.3.0)\n",
      "Requirement already satisfied: mpmath<1.4,>=1.1.0 in c:\\users\\kylea\\appdata\\local\\programs\\python\\python311\\lib\\site-packages (from sympy>=1.13.3->torch) (1.3.0)\n",
      "Requirement already satisfied: MarkupSafe>=2.0 in c:\\users\\kylea\\appdata\\local\\programs\\python\\python311\\lib\\site-packages (from jinja2->torch) (2.1.1)\n",
      "Note: you may need to restart the kernel to use updated packages.\n"
     ]
    }
   ],
   "source": [
    "import os\n",
    "%pip install torch torchvision torchaudio"
   ]
  },
  {
   "cell_type": "markdown",
   "id": "56a21ac5",
   "metadata": {},
   "source": [
    "Run Segmentation"
   ]
  },
  {
   "cell_type": "code",
   "execution_count": 2,
   "id": "2fd00414",
   "metadata": {},
   "outputs": [
    {
     "name": "stdout",
     "output_type": "stream",
     "text": [
      "Requirement already satisfied: pip in c:\\users\\kylea\\appdata\\local\\programs\\python\\python311\\lib\\site-packages (25.2)\n",
      "Requirement already satisfied: setuptools in c:\\users\\kylea\\appdata\\local\\programs\\python\\python311\\lib\\site-packages (80.9.0)\n",
      "Requirement already satisfied: wheel in c:\\users\\kylea\\appdata\\local\\programs\\python\\python311\\lib\\site-packages (0.45.1)\n",
      "Note: you may need to restart the kernel to use updated packages.\n",
      "Requirement already satisfied: numpy in c:\\users\\kylea\\appdata\\local\\programs\\python\\python311\\lib\\site-packages (1.26.0)\n",
      "Note: you may need to restart the kernel to use updated packages.\n",
      "Requirement already satisfied: pyradiomics in c:\\users\\kylea\\appdata\\local\\programs\\python\\python311\\lib\\site-packages (3.0.1)\n",
      "Requirement already satisfied: numpy>=1.9.2 in c:\\users\\kylea\\appdata\\local\\programs\\python\\python311\\lib\\site-packages (from pyradiomics) (1.26.0)\n",
      "Requirement already satisfied: SimpleITK>=0.9.1 in c:\\users\\kylea\\appdata\\local\\programs\\python\\python311\\lib\\site-packages (from pyradiomics) (2.5.2)\n",
      "Requirement already satisfied: PyWavelets>=0.4.0 in c:\\users\\kylea\\appdata\\local\\programs\\python\\python311\\lib\\site-packages (from pyradiomics) (1.8.0)\n",
      "Requirement already satisfied: pykwalify>=1.6.0 in c:\\users\\kylea\\appdata\\local\\programs\\python\\python311\\lib\\site-packages (from pyradiomics) (1.8.0)\n",
      "Requirement already satisfied: six>=1.10.0 in c:\\users\\kylea\\appdata\\local\\programs\\python\\python311\\lib\\site-packages (from pyradiomics) (1.16.0)\n",
      "Requirement already satisfied: docopt>=0.6.2 in c:\\users\\kylea\\appdata\\local\\programs\\python\\python311\\lib\\site-packages (from pykwalify>=1.6.0->pyradiomics) (0.6.2)\n",
      "Requirement already satisfied: python-dateutil>=2.8.0 in c:\\users\\kylea\\appdata\\local\\programs\\python\\python311\\lib\\site-packages (from pykwalify>=1.6.0->pyradiomics) (2.8.2)\n",
      "Requirement already satisfied: ruamel.yaml>=0.16.0 in c:\\users\\kylea\\appdata\\local\\programs\\python\\python311\\lib\\site-packages (from pykwalify>=1.6.0->pyradiomics) (0.18.14)\n",
      "Requirement already satisfied: ruamel.yaml.clib>=0.2.7 in c:\\users\\kylea\\appdata\\local\\programs\\python\\python311\\lib\\site-packages (from ruamel.yaml>=0.16.0->pykwalify>=1.6.0->pyradiomics) (0.2.12)\n",
      "Note: you may need to restart the kernel to use updated packages.\n"
     ]
    }
   ],
   "source": [
    "%pip install --upgrade pip setuptools wheel\n",
    "%pip install numpy\n",
    "%pip install --no-build-isolation pyradiomics"
   ]
  },
  {
   "cell_type": "code",
   "execution_count": 3,
   "id": "a48511e8",
   "metadata": {},
   "outputs": [
    {
     "name": "stderr",
     "output_type": "stream",
     "text": [
      "Downloading...\n",
      "From (original): https://drive.google.com/uc?id=1UfKeFnJQ7IcOdklVDj6ViadcF6U72Blf\n",
      "From (redirected): https://drive.google.com/uc?id=1UfKeFnJQ7IcOdklVDj6ViadcF6U72Blf&confirm=t&uuid=0c20310f-e44d-4df1-b739-88f2f7e028b2\n",
      "To: c:\\Users\\kylea\\Repos\\Blood-Cell-Classification\\RedTell\\segmentation\\models\n",
      "100%|██████████| 176M/176M [00:15<00:00, 11.1MB/s] \n"
     ]
    },
    {
     "data": {
      "text/plain": [
       "'RedTell/segmentation/models'"
      ]
     },
     "execution_count": 3,
     "metadata": {},
     "output_type": "execute_result"
    }
   ],
   "source": [
    "import gdown\n",
    "\n",
    "# # Create the directory\n",
    "# os.makedirs('RedTell/segmentation/models', exist_ok=True)\n",
    "\n",
    "# # Change to the directory and download\n",
    "# os.chdir('RedTell/segmentation/models')\n",
    "\n",
    "gdown.download(id='1UfKeFnJQ7IcOdklVDj6ViadcF6U72Blf', \n",
    "               output='RedTell/segmentation/models', \n",
    "               quiet=False)"
   ]
  },
  {
   "cell_type": "code",
   "execution_count": 2,
   "id": "53378982",
   "metadata": {},
   "outputs": [
    {
     "name": "stdout",
     "output_type": "stream",
     "text": [
      "Current directory: c:\\Users\\kylea\\Repos\\Blood-Cell-Classification\n"
     ]
    }
   ],
   "source": [
    "import os\n",
    "\n",
    "# Show current working directory\n",
    "print(\"Current directory:\", os.getcwd())"
   ]
  },
  {
   "cell_type": "code",
   "execution_count": 3,
   "id": "bb8c7458",
   "metadata": {},
   "outputs": [
    {
     "name": "stdout",
     "output_type": "stream",
     "text": [
      "Segmenting images in  C:/Users/kylea/Repos/Blood-Cell-Classification/SampleImages\n",
      "Using model  mask_rcnn_commitment\n",
      "Segmenting  5  images\n"
     ]
    },
    {
     "name": "stderr",
     "output_type": "stream",
     "text": [
      "100%|██████████| 5/5 [00:13<00:00,  2.74s/it]"
     ]
    },
    {
     "name": "stdout",
     "output_type": "stream",
     "text": [
      "Segmentation is done\n",
      "Segmentation masks are stored in  C:/Users/kylea/Repos/Blood-Cell-Classification/SampleImages\\masks\n",
      "Segmentation results are stored in  C:/Users/kylea/Repos/Blood-Cell-Classification/SampleImages\\segmentation_results\n"
     ]
    },
    {
     "name": "stderr",
     "output_type": "stream",
     "text": [
      "\n"
     ]
    }
   ],
   "source": [
    "import sys\n",
    "# Change to RedTell directory\n",
    "os.chdir(r\"C:/Users/kylea/Repos/Blood-Cell-Classification\")\n",
    "\n",
    "# Now import should work\n",
    "from RedTell.segmentation.predict import segment_images\n",
    "\n",
    "# project_root = r\"C:/Users/kylea/Repos/Blood-Cell-Classification\"\n",
    "data_dir = r\"C:/Users/kylea/Repos/Blood-Cell-Classification/SampleImages\"\n",
    "# sys.path.append(os.path.join(project_root, \"RedTell\"))\n",
    "\n",
    "# Run segmentation\n",
    "segment_images(data_dir, model=\"mask_rcnn_commitment\")\n"
   ]
  }
 ],
 "metadata": {
  "kernelspec": {
   "display_name": "Python 3",
   "language": "python",
   "name": "python3"
  },
  "language_info": {
   "codemirror_mode": {
    "name": "ipython",
    "version": 3
   },
   "file_extension": ".py",
   "mimetype": "text/x-python",
   "name": "python",
   "nbconvert_exporter": "python",
   "pygments_lexer": "ipython3",
   "version": "3.11.1"
  }
 },
 "nbformat": 4,
 "nbformat_minor": 5
}
